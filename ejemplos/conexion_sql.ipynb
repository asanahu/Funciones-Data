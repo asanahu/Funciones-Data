{
 "cells": [
  {
   "cell_type": "markdown",
   "metadata": {},
   "source": [
    "# Conexión a bases de datos"
   ]
  },
  {
   "cell_type": "code",
   "metadata": {},
   "source": [
    "from formulas import crear_conexion, leer_query\n",
    "engine = crear_conexion('sqlite:///mi_db.sqlite')\n",
    "df = leer_query('SELECT * FROM tabla', engine)\n",
    "df.head()"
   ],
   "execution_count": null,
   "outputs": []
  }
 ],
 "metadata": {},
 "nbformat": 4,
 "nbformat_minor": 2
}
