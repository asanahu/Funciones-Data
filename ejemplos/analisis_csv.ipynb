{
 "cells": [
  {
   "cell_type": "markdown",
   "metadata": {},
   "source": [
    "# Análisis rápido de un CSV"
   ]
  },
  {
   "cell_type": "code",
   "metadata": {},
   "source": [
    "from formulas import cargar_csv, nulos\n",
    "df = cargar_csv('datos.csv')\n",
    "nulos(df)"
   ],
   "execution_count": null,
   "outputs": []
  }
 ],
 "metadata": {},
 "nbformat": 4,
 "nbformat_minor": 2
}
