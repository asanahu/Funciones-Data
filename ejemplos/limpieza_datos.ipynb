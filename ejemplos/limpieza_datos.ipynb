{
 "cells": [
  {
   "cell_type": "markdown",
   "metadata": {},
   "source": [
    "# Limpieza de datos"
   ]
  },
  {
   "cell_type": "code",
   "metadata": {},
   "source": [
    "from formulas import cargar_csv, limpiar_columnas, limpiar_nombres\n",
    "df = cargar_csv('sucio.csv')\n",
    "df = limpiar_columnas(df)\n",
    "df = limpiar_nombres(df)\n",
    "df.head()"
   ],
   "execution_count": null,
   "outputs": []
  }
 ],
 "metadata": {},
 "nbformat": 4,
 "nbformat_minor": 2
}
