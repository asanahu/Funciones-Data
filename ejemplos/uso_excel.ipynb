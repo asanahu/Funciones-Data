{
 "cells": [
  {
   "cell_type": "markdown",
   "metadata": {},
   "source": [
    "# Ejemplo de uso con Excel"
   ]
  },
  {
   "cell_type": "code",
   "metadata": {},
   "source": [
    "from formulas import leer_excel\n",
    "df = leer_excel('archivo.xlsx')\n",
    "df.head()"
   ],
   "execution_count": null,
   "outputs": []
  }
 ],
 "metadata": {},
 "nbformat": 4,
 "nbformat_minor": 2
}
